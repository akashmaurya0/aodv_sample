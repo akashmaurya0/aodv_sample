{
 "cells": [
  {
   "cell_type": "code",
   "execution_count": 1,
   "metadata": {},
   "outputs": [
    {
     "name": "stdout",
     "output_type": "stream",
     "text": [
      "For single-hop AODV protocol:\n",
      "\n",
      "RREQ_packet is forwarded\n",
      "For multi-hop AODV protocol:\n",
      "\n",
      "RREQ_packet is dropped\n",
      "--- 0.0 seconds ---\n"
     ]
    }
   ],
   "source": [
    "#!/usr/bin/python\n",
    "\n",
    "from random import randint\n",
    "import time\n",
    "\n",
    "# Start the timer to measure execution time\n",
    "start_time = time.time()\n",
    "\n",
    "def aodv(hop_count):\n",
    "    # The drop factor decreases as the hop count increases (simplified model)\n",
    "    drop_factor = (1 / (hop_count + 1) * 1.0)\n",
    "    random_value = randint(0, 1)  # Random number between 0 and 1\n",
    "\n",
    "    # If random_value is greater than drop_factor, forward the packet, else drop it\n",
    "    if random_value > drop_factor:\n",
    "        print(\"RREQ_packet is forwarded\")\n",
    "    else:\n",
    "        print(\"RREQ_packet is dropped\")\n",
    "\n",
    "# Simulate single-hop (hop_count = 1)\n",
    "hop_count = 1\n",
    "print(\"For single-hop AODV protocol:\\n\")\n",
    "aodv(hop_count)\n",
    "\n",
    "# Simulate multi-hop (hop_count = 2)\n",
    "hop_count = 2\n",
    "print(\"For multi-hop AODV protocol:\\n\")\n",
    "aodv(hop_count)\n",
    "\n",
    "# Print the execution time\n",
    "print(\"--- %s seconds ---\" % (time.time() - start_time))\n"
   ]
  },
  {
   "cell_type": "code",
   "execution_count": 2,
   "metadata": {},
   "outputs": [
    {
     "name": "stdout",
     "output_type": "stream",
     "text": [
      "For single-hop AODV protocol:\n",
      "\n",
      "RREQ_packet is forwarded with hop count 1\n",
      "For multi-hop AODV protocol (hop_count=2):\n",
      "\n",
      "RREQ_packet is forwarded with hop count 2\n",
      "For multi-hop AODV protocol (hop_count=5):\n",
      "\n",
      "RREQ_packet is forwarded with hop count 5\n",
      "--- 0.0 seconds ---\n"
     ]
    }
   ],
   "source": [
    "#!/usr/bin/python\n",
    "\n",
    "from random import randint\n",
    "import time\n",
    "\n",
    "# Start the timer to measure execution time\n",
    "start_time = time.time()\n",
    "\n",
    "def aodv(hop_count):\n",
    "    # The drop factor decreases as the hop count increases (simplified model)\n",
    "    drop_factor = (1 / (hop_count + 1) * 1.0)\n",
    "    random_value = randint(0, 1)  # Random number between 0 and 1\n",
    "\n",
    "    # If random_value is greater than drop_factor, forward the packet, else drop it\n",
    "    if random_value > drop_factor:\n",
    "        print(f\"RREQ_packet is forwarded with hop count {hop_count}\")\n",
    "    else:\n",
    "        print(f\"RREQ_packet is dropped with hop count {hop_count}\")\n",
    "\n",
    "# Simulate single-hop (hop_count = 1)\n",
    "hop_count = 1\n",
    "print(\"For single-hop AODV protocol:\\n\")\n",
    "aodv(hop_count)\n",
    "\n",
    "# Simulate multi-hop (hop_count = 2)\n",
    "hop_count = 2\n",
    "print(\"For multi-hop AODV protocol (hop_count=2):\\n\")\n",
    "aodv(hop_count)\n",
    "\n",
    "# Simulate multi-hop with hop_count = 5\n",
    "hop_count = 5\n",
    "print(\"For multi-hop AODV protocol (hop_count=5):\\n\")\n",
    "aodv(hop_count)\n",
    "\n",
    "# Print the execution time\n",
    "print(\"--- %s seconds ---\" % (time.time() - start_time))\n"
   ]
  }
 ],
 "metadata": {
  "kernelspec": {
   "display_name": "base",
   "language": "python",
   "name": "python3"
  },
  "language_info": {
   "codemirror_mode": {
    "name": "ipython",
    "version": 3
   },
   "file_extension": ".py",
   "mimetype": "text/x-python",
   "name": "python",
   "nbconvert_exporter": "python",
   "pygments_lexer": "ipython3",
   "version": "3.12.4"
  }
 },
 "nbformat": 4,
 "nbformat_minor": 2
}
